{
  "nbformat": 4,
  "nbformat_minor": 0,
  "metadata": {
    "colab": {
      "name": "SDE_DNN.ipynb",
      "provenance": []
    },
    "kernelspec": {
      "name": "python3",
      "display_name": "Python 3"
    }
  },
  "cells": [
    {
      "cell_type": "code",
      "metadata": {
        "id": "iTsNK1TvkLRo",
        "colab_type": "code",
        "colab": {
          "base_uri": "https://localhost:8080/",
          "height": 81
        },
        "outputId": "8eeb7339-f9ff-4e51-fc31-528bdcc179ce"
      },
      "source": [
        "import tensorflow as tf\n",
        "import numpy as np\n",
        "import time, os, sys\n",
        "import matplotlib.pyplot as plt\n",
        "import scipy.io as sio\n",
        "\n",
        "import keras\n",
        "from keras.models import Sequential\n",
        "from keras.layers import Dense"
      ],
      "execution_count": 1,
      "outputs": [
        {
          "output_type": "display_data",
          "data": {
            "text/html": [
              "<p style=\"color: red;\">\n",
              "The default version of TensorFlow in Colab will soon switch to TensorFlow 2.x.<br>\n",
              "We recommend you <a href=\"https://www.tensorflow.org/guide/migrate\" target=\"_blank\">upgrade</a> now \n",
              "or ensure your notebook will continue to use TensorFlow 1.x via the <code>%tensorflow_version 1.x</code> magic:\n",
              "<a href=\"https://colab.research.google.com/notebooks/tensorflow_version.ipynb\" target=\"_blank\">more info</a>.</p>\n"
            ],
            "text/plain": [
              "<IPython.core.display.HTML object>"
            ]
          },
          "metadata": {
            "tags": []
          }
        },
        {
          "output_type": "stream",
          "text": [
            "Using TensorFlow backend.\n"
          ],
          "name": "stderr"
        }
      ]
    },
    {
      "cell_type": "code",
      "metadata": {
        "id": "z0-_Sm9EAhVL",
        "colab_type": "code",
        "colab": {}
      },
      "source": [
        "def plot_predicted_fn(inp, op, derv):\n",
        "    \"\"\"\n",
        "    For plotting predictions\n",
        "    \"\"\"\n",
        "    \n",
        "    # c = op[0] - (inp[0]**3)/3 \n",
        "\n",
        "    plt.plot(inp,op)\n",
        "    plt.title(\"x vs t\")\n",
        "    plt.show()\n",
        "\n",
        "    # actual derivative values\n",
        "    actual_derv = [i**2 - 3 for i in inp]\n",
        "    plt.figure(figsize=(15,5))\n",
        "    plt.title(\"x_t vs t\")\n",
        "    plt.plot(inp, derv, label = \"pred\")\n",
        "    plt.scatter(inp, actual_derv, c='r' ,label = 'actual')\n",
        "    plt.legend(loc=\"upper right\")\n",
        "    plt.show()\n",
        "\n"
      ],
      "execution_count": 0,
      "outputs": []
    },
    {
      "cell_type": "code",
      "metadata": {
        "id": "TVo78_DCkWvh",
        "colab_type": "code",
        "outputId": "32a14822-78a0-4eac-cf1b-07a94873ffb7",
        "colab": {
          "base_uri": "https://localhost:8080/",
          "height": 878
        }
      },
      "source": [
        "# input to neural network\n",
        "t = tf.placeholder(shape=[None, 1], dtype=tf.float32)\n",
        "\n",
        "epochs = 100000\n",
        "# initial learning rate\n",
        "lr = 0.01\n",
        "l_rate = tf.placeholder(tf.float32)\n",
        "\n",
        "\n",
        "# network architecture\n",
        "ly1 = tf.layers.dense(inputs=t, units=640, activation=tf.nn.sigmoid,\n",
        "                                  kernel_initializer=tf.random_normal_initializer(0., .1),\n",
        "                                  bias_initializer=tf.constant_initializer(0.))\n",
        "ly2 = tf.layers.dense(inputs=ly1, units=320, activation=tf.nn.relu,\n",
        "                                  kernel_initializer=tf.random_normal_initializer(0., .1),\n",
        "                                  bias_initializer=tf.constant_initializer(0.))\n",
        "ly3 = tf.layers.dense(inputs=ly2, units=16, activation=tf.nn.relu,\n",
        "                                  kernel_initializer=tf.random_normal_initializer(0., .1),\n",
        "                                  bias_initializer=tf.constant_initializer(0.))\n",
        "ly4 = tf.layers.dense(inputs=ly3, units=8, activation=tf.nn.relu,\n",
        "                                  kernel_initializer=tf.random_normal_initializer(0., .1),\n",
        "                                  bias_initializer=tf.constant_initializer(0.))\n",
        "op = tf.layers.dense(inputs=ly1, units=1, activation=None)\n",
        "\n",
        "# input range is [1,inp_length]\n",
        "inp_length = 100\n",
        "\n",
        "# computing gradient\n",
        "x_t = tf.gradients(op,t)[0]\n",
        "\n",
        "# loss function\n",
        "# equation: dx/dt = t^2 -3\n",
        "loss = tf.reduce_mean(tf.square(x_t - t*t + 3))\n",
        "\n",
        "# equation: dx/dt = 6x^2*t\n",
        "# loss = tf.reduce_mean(tf.square(x_t - 6*op[0]*op[0]*t))\n",
        "\n",
        "# optimizer\n",
        "opt = tf.train.AdamOptimizer(learning_rate = lr).minimize(loss)\n",
        "# opt = tf.train.GradientDescentOptimizer(learning_rate = lr).minimize(loss)\n",
        "\n",
        "# training data\n",
        "time_var = np.array([i for i in range(1,inp_length+1)])\n",
        "time_var = time_var[:, np.newaxis]\n",
        "\n",
        "init = tf.global_variables_initializer()\n",
        "with tf.Session() as sess:\n",
        "    sess.run(init)\n",
        "    losses = []\n",
        "    for i in range(epochs):\n",
        "        count = 0\n",
        "        # adaptive learning rate to avoid skipping minima\n",
        "        if((i+1)%20000 == 0):\n",
        "            lr = 0.1*lr\n",
        "            print(\"learning rate:\", lr)\n",
        "        \n",
        "        inp = np.reshape(time_var, [-1,1])\n",
        "        x,_ = sess.run([op,opt], feed_dict={t: inp, l_rate: lr})\n",
        "        losses.append(loss.eval({t: time_var, l_rate: lr}))\n",
        "            \n",
        "        if(i+1 == epochs):\n",
        "            print(\"Epoch :\", i, end=\" \")\n",
        "            print(\"loss : \",loss.eval({t: time_var}))\n",
        "            # print(\"Input : \",inp,\"output : \",x,\"loss : \",loss.eval({t: time_var, l_rate: lr}))\n",
        "            # print(\"Derivative: \",x_t.eval({t:inp, l_rate: lr}))\n",
        "            # count = count + 1\n",
        "        if(i % 10000 == 0):\n",
        "            print(\"Epoch :\", i, end=\" \")\n",
        "            print(\"loss : \",loss.eval({t: time_var}))\n",
        "            \n",
        "        #     print(\"x : \", x,\"loss : \",loss.eval({t: time_var, l_rate: lr}))\n",
        "        #     print(\"x_t: \",x_t.eval({t:inp, l_rate: lr}))\n",
        "\n",
        "    time_test = np.array([i for i in range(1,inp_length+1)])\n",
        "    time_test = time_test[:, np.newaxis]\n",
        "    # print(op.eval({t: time_test}))\n",
        "    pred = list(op.eval({t: time_test}))\n",
        "    pred = [i[0] for i in pred]\n",
        "    derivatives = list(x_t.eval({t: time_test}))\n",
        "    derivatives = [i[0] for i in derivatives]\n",
        "    inp = [i for i in range(1,inp_length+1)]\n",
        "    plot_predicted_fn(inp, pred, derivatives)\n",
        "    \n",
        "\n"
      ],
      "execution_count": 23,
      "outputs": [
        {
          "output_type": "stream",
          "text": [
            "Epoch : 0 loss :  20482904.0\n",
            "Epoch : 10000 loss :  11886109.0\n",
            "learning rate: 0.001\n",
            "Epoch : 20000 loss :  6601301.0\n",
            "Epoch : 30000 loss :  3156330.2\n",
            "learning rate: 0.0001\n",
            "Epoch : 40000 loss :  1112562.6\n",
            "Epoch : 50000 loss :  171146.8\n",
            "learning rate: 1e-05\n",
            "Epoch : 60000 loss :  2553.2632\n",
            "Epoch : 70000 loss :  43.26041\n",
            "learning rate: 1.0000000000000002e-06\n",
            "Epoch : 80000 loss :  121.81774\n",
            "Epoch : 90000 loss :  2843.983\n",
            "learning rate: 1.0000000000000002e-07\n",
            "Epoch : 99999 loss :  251.86275\n"
          ],
          "name": "stdout"
        },
        {
          "output_type": "display_data",
          "data": {
            "image/png": "[encoded data removed]",
            "text/plain": [
              "<Figure size 432x288 with 1 Axes>"
            ]
          },
          "metadata": {
            "tags": []
          }
        },
        {
          "output_type": "display_data",
          "data": {
            "image/png": "[encoded data removed]",
            "text/plain": [
              "<Figure size 1080x360 with 1 Axes>"
            ]
          },
          "metadata": {
            "tags": []
          }
        }
      ]
    },
    {
      "cell_type": "code",
      "metadata": {
        "id": "Ve9-XWLlwCWG",
        "colab_type": "code",
        "colab": {}
      },
      "source": [
        "# using pytorch\n",
        "\n",
        "import torch\n",
        "import torch.nn as nn\n",
        "import numpy as np\n",
        "# import torchvision\n",
        "# import torchvision.transforms as transforms"
      ],
      "execution_count": 0,
      "outputs": []
    },
    {
      "cell_type": "code",
      "metadata": {
        "id": "K8qClcuX8DJq",
        "colab_type": "code",
        "outputId": "13e298e4-5db5-4299-96c6-0ace4b7fa17b",
        "colab": {
          "base_uri": "https://localhost:8080/",
          "height": 1000
        }
      },
      "source": [
        "\n",
        "\n",
        "\n",
        "# Device configuration\n",
        "device = torch.device('cuda' if torch.cuda.is_available() else 'cpu')\n",
        "\n",
        "# Hyper-parameters \n",
        "input_size = 1\n",
        "hidden_size = 64\n",
        "# num_classes = 10\n",
        "num_epochs = 50000\n",
        "batch_size = 10\n",
        "learning_rate = 0.001\n",
        "\n",
        "# # MNIST dataset \n",
        "# train_dataset = torchvision.datasets.MNIST(root='../../data', \n",
        "#                                            train=True, \n",
        "#                                            transform=transforms.ToTensor(),  \n",
        "#                                            download=True)\n",
        "\n",
        "# test_dataset = torchvision.datasets.MNIST(root='../../data', \n",
        "#                                           train=False, \n",
        "#                                           transform=transforms.ToTensor())\n",
        "\n",
        "# # Data loader\n",
        "# train_loader = torch.utils.data.DataLoader(dataset=train_dataset, \n",
        "#                                            batch_size=batch_size, \n",
        "#                                            shuffle=True)\n",
        "\n",
        "# test_loader = torch.utils.data.DataLoader(dataset=test_dataset, \n",
        "#                                           batch_size=batch_size, \n",
        "#                                           shuffle=False)\n",
        "\n",
        "#Train data\n",
        "\n",
        "train_data = np.array([[float(i)] for i in range(1,101)])\n",
        "# train_data = train_data[:, np.newaxis]\n",
        "train_data = torch.from_numpy(train_data)\n",
        "\n",
        "train_loader = torch.utils.data.DataLoader(dataset=train_data, \n",
        "                                           batch_size=batch_size, \n",
        "                                           shuffle=True)\n",
        "\n",
        "\n",
        "# Fully connected neural network with one hidden layer\n",
        "class NeuralNet(nn.Module):\n",
        "    def __init__(self, input_size, hidden_size):\n",
        "        super(NeuralNet, self).__init__()\n",
        "        self.fc1 = nn.Linear(input_size, hidden_size) \n",
        "        self.tanh = nn.Tanh()\n",
        "        self.fc2 = nn.Linear(hidden_size, hidden_size*2)\n",
        "        self.fc3 = nn.Linear(hidden_size*2, 1)\n",
        "    \n",
        "    def forward(self, x):\n",
        "        out = self.fc1(x)\n",
        "        out = self.tanh(out)\n",
        "        out = self.fc2(out)\n",
        "        # out = self.tanh(out)\n",
        "        out = self.fc3(out)\n",
        "        return out\n",
        "\n",
        "model = NeuralNet(input_size, hidden_size).to(device)\n",
        "\n",
        "# def my_loss(output, inp):\n",
        "#     # loss = torch.mean((output - target)**2)\n",
        "#     losses = []\n",
        "#     for i in inp:\n",
        "#       x = torch.autograd.Variable(i,requires_grad=True)\n",
        "#       print(x)\n",
        "#       y = model(x.float())\n",
        "#       # print(\"in loss fn: \",y)\n",
        "#       y.backward()\n",
        "#       losses.append((x.grad - x**2 + 3) ** 2)\n",
        "    \n",
        "#     losses = torch.FloatTensor(losses)\n",
        "#     print(losses)\n",
        "#     loss = torch.mean(losses)\n",
        "#     return loss\n",
        "\n",
        "\n",
        "def my_loss(output, inp):\n",
        "    x = torch.autograd.Variable(inp,requires_grad=True)\n",
        "    y = model(x.float())\n",
        "    y.backward()\n",
        "    loss = (x.grad - x**2 + 3) ** 2\n",
        "    # print(x.grad)\n",
        "    return loss\n",
        "    \n",
        "\n",
        "\n",
        "\n",
        "\n",
        "# Loss and optimizer\n",
        "# criterion = nn.CrossEntropyLoss()\n",
        "criterion = nn.MSELoss()\n",
        "optimizer = torch.optim.Adam(model.parameters(), lr=learning_rate)  \n",
        "\n",
        "# Train the model\n",
        "# total_step = len(train_loader)\n",
        "total_step = 100\n",
        "for epoch in range(num_epochs):\n",
        "    print(\"Epoch :\", epoch)\n",
        "    # for i, inp in enumerate(train_loader):  \n",
        "    for inp in train_data:    \n",
        "        # Forward pass\n",
        "        # i = i.reshape(-1,1).to(device)\n",
        "        # print(inp, type(inp))\n",
        "        outputs = model(inp.float())\n",
        "        # print(outputs)\n",
        "        # loss = criterion(outputs, inp.float())\n",
        "        \n",
        "        loss = my_loss(outputs, inp)\n",
        "        \n",
        "        # print(loss.item())\n",
        "        # Backward and optimize\n",
        "        optimizer.zero_grad()\n",
        "        loss.backward()\n",
        "        optimizer.step()\n",
        "        \n",
        "        # if (i+1) % 100 == 0:\n",
        "        #     print ('Epoch [{}/{}], Step [{}/{}], Loss: {:.4f}' \n",
        "        #            .format(epoch+1, num_epochs, i+1, total_step, loss.item()))\n",
        "    print(loss)\n",
        "\n",
        "# Test the model\n",
        "# In test phase, we don't need to compute gradients (for memory efficiency)\n",
        "# with torch.no_grad():\n",
        "#     correct = 0\n",
        "#     total = 0\n",
        "#     for images, labels in test_loader:\n",
        "#         images = images.reshape(-1, 28*28).to(device)\n",
        "#         labels = labels.to(device)\n",
        "#         outputs = model(images)\n",
        "#         _, predicted = torch.max(outputs.data, 1)\n",
        "#         total += labels.size(0)\n",
        "#         correct += (predicted == labels).sum().item()\n",
        "\n",
        "#     print('Accuracy of the network on the 10000 test images: {} %'.format(100 * correct / total))\n",
        "\n",
        "# # Save the model checkpoint\n",
        "# torch.save(model.state_dict(), 'model.ckpt')\n"
      ],
      "execution_count": 2,
      "outputs": [
        {
          "output_type": "stream",
          "text": [
            "Epoch : 0\n",
            "tensor([99940025.5180], dtype=torch.float64, grad_fn=<PowBackward0>)\n",
            "Epoch : 1\n",
            "tensor([99940025.5180], dtype=torch.float64, grad_fn=<PowBackward0>)\n",
            "Epoch : 2\n",
            "tensor([99940025.5180], dtype=torch.float64, grad_fn=<PowBackward0>)\n",
            "Epoch : 3\n",
            "tensor([99940025.5180], dtype=torch.float64, grad_fn=<PowBackward0>)\n",
            "Epoch : 4\n",
            "tensor([99940025.5180], dtype=torch.float64, grad_fn=<PowBackward0>)\n",
            "Epoch : 5\n",
            "tensor([99940025.5180], dtype=torch.float64, grad_fn=<PowBackward0>)\n",
            "Epoch : 6\n",
            "tensor([99940025.5180], dtype=torch.float64, grad_fn=<PowBackward0>)\n",
            "Epoch : 7\n",
            "tensor([99940025.5180], dtype=torch.float64, grad_fn=<PowBackward0>)\n",
            "Epoch : 8\n",
            "tensor([99940025.5180], dtype=torch.float64, grad_fn=<PowBackward0>)\n",
            "Epoch : 9\n",
            "tensor([99940025.5180], dtype=torch.float64, grad_fn=<PowBackward0>)\n",
            "Epoch : 10\n",
            "tensor([99940025.5180], dtype=torch.float64, grad_fn=<PowBackward0>)\n",
            "Epoch : 11\n",
            "tensor([99940025.5180], dtype=torch.float64, grad_fn=<PowBackward0>)\n",
            "Epoch : 12\n",
            "tensor([99940025.5180], dtype=torch.float64, grad_fn=<PowBackward0>)\n",
            "Epoch : 13\n",
            "tensor([99940025.5180], dtype=torch.float64, grad_fn=<PowBackward0>)\n",
            "Epoch : 14\n",
            "tensor([99940025.5180], dtype=torch.float64, grad_fn=<PowBackward0>)\n",
            "Epoch : 15\n",
            "tensor([99940025.5180], dtype=torch.float64, grad_fn=<PowBackward0>)\n",
            "Epoch : 16\n",
            "tensor([99940025.5180], dtype=torch.float64, grad_fn=<PowBackward0>)\n",
            "Epoch : 17\n",
            "tensor([99940025.5180], dtype=torch.float64, grad_fn=<PowBackward0>)\n",
            "Epoch : 18\n",
            "tensor([99940025.5180], dtype=torch.float64, grad_fn=<PowBackward0>)\n",
            "Epoch : 19\n",
            "tensor([99940025.5180], dtype=torch.float64, grad_fn=<PowBackward0>)\n",
            "Epoch : 20\n",
            "tensor([99940025.5180], dtype=torch.float64, grad_fn=<PowBackward0>)\n",
            "Epoch : 21\n",
            "tensor([99940025.5180], dtype=torch.float64, grad_fn=<PowBackward0>)\n",
            "Epoch : 22\n",
            "tensor([99940025.5180], dtype=torch.float64, grad_fn=<PowBackward0>)\n",
            "Epoch : 23\n",
            "tensor([99940025.5180], dtype=torch.float64, grad_fn=<PowBackward0>)\n",
            "Epoch : 24\n",
            "tensor([99940025.5180], dtype=torch.float64, grad_fn=<PowBackward0>)\n",
            "Epoch : 25\n",
            "tensor([99940025.5180], dtype=torch.float64, grad_fn=<PowBackward0>)\n",
            "Epoch : 26\n",
            "tensor([99940025.5180], dtype=torch.float64, grad_fn=<PowBackward0>)\n",
            "Epoch : 27\n",
            "tensor([99940025.5180], dtype=torch.float64, grad_fn=<PowBackward0>)\n",
            "Epoch : 28\n",
            "tensor([99940025.5180], dtype=torch.float64, grad_fn=<PowBackward0>)\n",
            "Epoch : 29\n",
            "tensor([99940025.5180], dtype=torch.float64, grad_fn=<PowBackward0>)\n",
            "Epoch : 30\n",
            "tensor([99940025.5180], dtype=torch.float64, grad_fn=<PowBackward0>)\n",
            "Epoch : 31\n",
            "tensor([99940025.5180], dtype=torch.float64, grad_fn=<PowBackward0>)\n",
            "Epoch : 32\n",
            "tensor([99940025.5180], dtype=torch.float64, grad_fn=<PowBackward0>)\n",
            "Epoch : 33\n",
            "tensor([99940025.5180], dtype=torch.float64, grad_fn=<PowBackward0>)\n",
            "Epoch : 34\n",
            "tensor([99940025.5180], dtype=torch.float64, grad_fn=<PowBackward0>)\n",
            "Epoch : 35\n",
            "tensor([99940025.5180], dtype=torch.float64, grad_fn=<PowBackward0>)\n",
            "Epoch : 36\n",
            "tensor([99940025.5180], dtype=torch.float64, grad_fn=<PowBackward0>)\n",
            "Epoch : 37\n",
            "tensor([99940025.5180], dtype=torch.float64, grad_fn=<PowBackward0>)\n",
            "Epoch : 38\n",
            "tensor([99940025.5180], dtype=torch.float64, grad_fn=<PowBackward0>)\n",
            "Epoch : 39\n",
            "tensor([99940025.5180], dtype=torch.float64, grad_fn=<PowBackward0>)\n",
            "Epoch : 40\n",
            "tensor([99940025.5180], dtype=torch.float64, grad_fn=<PowBackward0>)\n",
            "Epoch : 41\n",
            "tensor([99940025.5180], dtype=torch.float64, grad_fn=<PowBackward0>)\n",
            "Epoch : 42\n",
            "tensor([99940025.5180], dtype=torch.float64, grad_fn=<PowBackward0>)\n",
            "Epoch : 43\n",
            "tensor([99940025.5180], dtype=torch.float64, grad_fn=<PowBackward0>)\n",
            "Epoch : 44\n",
            "tensor([99940025.5180], dtype=torch.float64, grad_fn=<PowBackward0>)\n",
            "Epoch : 45\n",
            "tensor([99940025.5180], dtype=torch.float64, grad_fn=<PowBackward0>)\n",
            "Epoch : 46\n",
            "tensor([99940025.5180], dtype=torch.float64, grad_fn=<PowBackward0>)\n",
            "Epoch : 47\n",
            "tensor([99940025.5180], dtype=torch.float64, grad_fn=<PowBackward0>)\n",
            "Epoch : 48\n",
            "tensor([99940025.5180], dtype=torch.float64, grad_fn=<PowBackward0>)\n",
            "Epoch : 49\n",
            "tensor([99940025.5180], dtype=torch.float64, grad_fn=<PowBackward0>)\n",
            "Epoch : 50\n",
            "tensor([99940025.5180], dtype=torch.float64, grad_fn=<PowBackward0>)\n",
            "Epoch : 51\n",
            "tensor([99940025.5180], dtype=torch.float64, grad_fn=<PowBackward0>)\n",
            "Epoch : 52\n",
            "tensor([99940025.5180], dtype=torch.float64, grad_fn=<PowBackward0>)\n",
            "Epoch : 53\n",
            "tensor([99940025.5180], dtype=torch.float64, grad_fn=<PowBackward0>)\n",
            "Epoch : 54\n",
            "tensor([99940025.5180], dtype=torch.float64, grad_fn=<PowBackward0>)\n",
            "Epoch : 55\n",
            "tensor([99940025.5180], dtype=torch.float64, grad_fn=<PowBackward0>)\n",
            "Epoch : 56\n",
            "tensor([99940025.5180], dtype=torch.float64, grad_fn=<PowBackward0>)\n",
            "Epoch : 57\n",
            "tensor([99940025.5180], dtype=torch.float64, grad_fn=<PowBackward0>)\n",
            "Epoch : 58\n",
            "tensor([99940025.5180], dtype=torch.float64, grad_fn=<PowBackward0>)\n",
            "Epoch : 59\n",
            "tensor([99940025.5180], dtype=torch.float64, grad_fn=<PowBackward0>)\n",
            "Epoch : 60\n",
            "tensor([99940025.5180], dtype=torch.float64, grad_fn=<PowBackward0>)\n",
            "Epoch : 61\n",
            "tensor([99940025.5180], dtype=torch.float64, grad_fn=<PowBackward0>)\n",
            "Epoch : 62\n",
            "tensor([99940025.5180], dtype=torch.float64, grad_fn=<PowBackward0>)\n",
            "Epoch : 63\n",
            "tensor([99940025.5180], dtype=torch.float64, grad_fn=<PowBackward0>)\n",
            "Epoch : 64\n",
            "tensor([99940025.5180], dtype=torch.float64, grad_fn=<PowBackward0>)\n",
            "Epoch : 65\n",
            "tensor([99940025.5180], dtype=torch.float64, grad_fn=<PowBackward0>)\n",
            "Epoch : 66\n",
            "tensor([99940025.5180], dtype=torch.float64, grad_fn=<PowBackward0>)\n",
            "Epoch : 67\n",
            "tensor([99940025.5180], dtype=torch.float64, grad_fn=<PowBackward0>)\n",
            "Epoch : 68\n",
            "tensor([99940025.5180], dtype=torch.float64, grad_fn=<PowBackward0>)\n",
            "Epoch : 69\n",
            "tensor([99940025.5180], dtype=torch.float64, grad_fn=<PowBackward0>)\n",
            "Epoch : 70\n",
            "tensor([99940025.5180], dtype=torch.float64, grad_fn=<PowBackward0>)\n",
            "Epoch : 71\n",
            "tensor([99940025.5180], dtype=torch.float64, grad_fn=<PowBackward0>)\n",
            "Epoch : 72\n",
            "tensor([99940025.5180], dtype=torch.float64, grad_fn=<PowBackward0>)\n",
            "Epoch : 73\n",
            "tensor([99940025.5180], dtype=torch.float64, grad_fn=<PowBackward0>)\n",
            "Epoch : 74\n",
            "tensor([99940025.5180], dtype=torch.float64, grad_fn=<PowBackward0>)\n",
            "Epoch : 75\n",
            "tensor([99940025.5180], dtype=torch.float64, grad_fn=<PowBackward0>)\n",
            "Epoch : 76\n",
            "tensor([99940025.5180], dtype=torch.float64, grad_fn=<PowBackward0>)\n",
            "Epoch : 77\n",
            "tensor([99940025.5180], dtype=torch.float64, grad_fn=<PowBackward0>)\n",
            "Epoch : 78\n",
            "tensor([99940025.5180], dtype=torch.float64, grad_fn=<PowBackward0>)\n",
            "Epoch : 79\n"
          ],
          "name": "stdout"
        },
        {
          "output_type": "error",
          "ename": "KeyboardInterrupt",
          "evalue": "ignored",
          "traceback": [
            "\u001b[0;31m---------------------------------------------------------------------------\u001b[0m",
            "\u001b[0;31mKeyboardInterrupt\u001b[0m                         Traceback (most recent call last)",
            "\u001b[0;32m<ipython-input-2-014f72e93552>\u001b[0m in \u001b[0;36m<module>\u001b[0;34m()\u001b[0m\n\u001b[1;32m    112\u001b[0m         \u001b[0moptimizer\u001b[0m\u001b[0;34m.\u001b[0m\u001b[0mzero_grad\u001b[0m\u001b[0;34m(\u001b[0m\u001b[0;34m)\u001b[0m\u001b[0;34m\u001b[0m\u001b[0;34m\u001b[0m\u001b[0m\n\u001b[1;32m    113\u001b[0m         \u001b[0mloss\u001b[0m\u001b[0;34m.\u001b[0m\u001b[0mbackward\u001b[0m\u001b[0;34m(\u001b[0m\u001b[0;34m)\u001b[0m\u001b[0;34m\u001b[0m\u001b[0;34m\u001b[0m\u001b[0m\n\u001b[0;32m--> 114\u001b[0;31m         \u001b[0moptimizer\u001b[0m\u001b[0;34m.\u001b[0m\u001b[0mstep\u001b[0m\u001b[0;34m(\u001b[0m\u001b[0;34m)\u001b[0m\u001b[0;34m\u001b[0m\u001b[0;34m\u001b[0m\u001b[0m\n\u001b[0m\u001b[1;32m    115\u001b[0m \u001b[0;34m\u001b[0m\u001b[0m\n\u001b[1;32m    116\u001b[0m         \u001b[0;31m# if (i+1) % 100 == 0:\u001b[0m\u001b[0;34m\u001b[0m\u001b[0;34m\u001b[0m\u001b[0;34m\u001b[0m\u001b[0m\n",
            "\u001b[0;32m/usr/local/lib/python3.6/dist-packages/torch/optim/adam.py\u001b[0m in \u001b[0;36mstep\u001b[0;34m(self, closure)\u001b[0m\n\u001b[1;32m    101\u001b[0m                     \u001b[0mdenom\u001b[0m \u001b[0;34m=\u001b[0m \u001b[0;34m(\u001b[0m\u001b[0mmax_exp_avg_sq\u001b[0m\u001b[0;34m.\u001b[0m\u001b[0msqrt\u001b[0m\u001b[0;34m(\u001b[0m\u001b[0;34m)\u001b[0m \u001b[0;34m/\u001b[0m \u001b[0mmath\u001b[0m\u001b[0;34m.\u001b[0m\u001b[0msqrt\u001b[0m\u001b[0;34m(\u001b[0m\u001b[0mbias_correction2\u001b[0m\u001b[0;34m)\u001b[0m\u001b[0;34m)\u001b[0m\u001b[0;34m.\u001b[0m\u001b[0madd_\u001b[0m\u001b[0;34m(\u001b[0m\u001b[0mgroup\u001b[0m\u001b[0;34m[\u001b[0m\u001b[0;34m'eps'\u001b[0m\u001b[0;34m]\u001b[0m\u001b[0;34m)\u001b[0m\u001b[0;34m\u001b[0m\u001b[0;34m\u001b[0m\u001b[0m\n\u001b[1;32m    102\u001b[0m                 \u001b[0;32melse\u001b[0m\u001b[0;34m:\u001b[0m\u001b[0;34m\u001b[0m\u001b[0;34m\u001b[0m\u001b[0m\n\u001b[0;32m--> 103\u001b[0;31m                     \u001b[0mdenom\u001b[0m \u001b[0;34m=\u001b[0m \u001b[0;34m(\u001b[0m\u001b[0mexp_avg_sq\u001b[0m\u001b[0;34m.\u001b[0m\u001b[0msqrt\u001b[0m\u001b[0;34m(\u001b[0m\u001b[0;34m)\u001b[0m \u001b[0;34m/\u001b[0m \u001b[0mmath\u001b[0m\u001b[0;34m.\u001b[0m\u001b[0msqrt\u001b[0m\u001b[0;34m(\u001b[0m\u001b[0mbias_correction2\u001b[0m\u001b[0;34m)\u001b[0m\u001b[0;34m)\u001b[0m\u001b[0;34m.\u001b[0m\u001b[0madd_\u001b[0m\u001b[0;34m(\u001b[0m\u001b[0mgroup\u001b[0m\u001b[0;34m[\u001b[0m\u001b[0;34m'eps'\u001b[0m\u001b[0;34m]\u001b[0m\u001b[0;34m)\u001b[0m\u001b[0;34m\u001b[0m\u001b[0;34m\u001b[0m\u001b[0m\n\u001b[0m\u001b[1;32m    104\u001b[0m \u001b[0;34m\u001b[0m\u001b[0m\n\u001b[1;32m    105\u001b[0m                 \u001b[0mstep_size\u001b[0m \u001b[0;34m=\u001b[0m \u001b[0mgroup\u001b[0m\u001b[0;34m[\u001b[0m\u001b[0;34m'lr'\u001b[0m\u001b[0;34m]\u001b[0m \u001b[0;34m/\u001b[0m \u001b[0mbias_correction1\u001b[0m\u001b[0;34m\u001b[0m\u001b[0;34m\u001b[0m\u001b[0m\n",
            "\u001b[0;31mKeyboardInterrupt\u001b[0m: "
          ]
        }
      ]
    },
    {
      "cell_type": "code",
      "metadata": {
        "id": "DkfxnVyJE45J",
        "colab_type": "code",
        "colab": {}
      },
      "source": [
        ""
      ],
      "execution_count": 0,
      "outputs": []
    },
    {
      "cell_type": "code",
      "metadata": {
        "id": "9dkrYiWBE43O",
        "colab_type": "code",
        "outputId": "d53a2414-d2aa-4576-daf7-920e6dfe03c0",
        "colab": {
          "base_uri": "https://localhost:8080/",
          "height": 81
        }
      },
      "source": [
        "# Keras implementation\n",
        "\n",
        "import keras\n",
        "from keras.datasets import mnist\n",
        "from keras.models import Sequential\n",
        "from keras.layers import Dense\n",
        "from keras import backend as K\n",
        "\n"
      ],
      "execution_count": 0,
      "outputs": [
        {
          "output_type": "stream",
          "text": [
            "Using TensorFlow backend.\n"
          ],
          "name": "stderr"
        },
        {
          "output_type": "display_data",
          "data": {
            "text/html": [
              "<p style=\"color: red;\">\n",
              "The default version of TensorFlow in Colab will soon switch to TensorFlow 2.x.<br>\n",
              "We recommend you <a href=\"https://www.tensorflow.org/guide/migrate\" target=\"_blank\">upgrade</a> now \n",
              "or ensure your notebook will continue to use TensorFlow 1.x via the <code>%tensorflow_version 1.x</code> magic:\n",
              "<a href=\"https://colab.research.google.com/notebooks/tensorflow_version.ipynb\" target=\"_blank\">more info</a>.</p>\n"
            ],
            "text/plain": [
              "<IPython.core.display.HTML object>"
            ]
          },
          "metadata": {
            "tags": []
          }
        }
      ]
    },
    {
      "cell_type": "code",
      "metadata": {
        "id": "ewrnhpKpNaIY",
        "colab_type": "code",
        "colab": {}
      },
      "source": [
        "def custom_loss(actual,pred):\n",
        "    loss = K.mean(K.sum(K.square((actual - pred )/10)))\n",
        "    grads = K.gradients(model.output, model.input)[0]\n",
        "    # loss = (grads - model.input**2 + 3) **2\n",
        "    inp = K.variable(model.input)\n",
        "    print(grads - inp**2 + 3 )\n",
        "    return loss"
      ],
      "execution_count": 0,
      "outputs": []
    },
    {
      "cell_type": "code",
      "metadata": {
        "id": "JzwUZFALE4y4",
        "colab_type": "code",
        "outputId": "ac744367-7ebf-44f1-c53f-a51c12fa08fb",
        "colab": {
          "base_uri": "https://localhost:8080/",
          "height": 1000
        }
      },
      "source": [
        "train_data = np.array([[float(i)] for i in range(1,101)])\n",
        "# train_data = train_data[:, np.newaxis]\n",
        "\n",
        "model = Sequential()\n",
        "model.add(Dense(64, input_dim=1, activation='tanh'))\n",
        "model.add(Dense(32, activation='tanh'))\n",
        "model.add(Dense(1, activation='linear'))\n",
        "# compile the keras model\n",
        "model.compile(loss=custom_loss, optimizer='adam', metrics=['accuracy'])\n",
        "# fit the keras model on the dataset\n",
        "X = train_data\n",
        "hist = model.fit(X, X, epochs=10, batch_size=10)\n",
        "\n"
      ],
      "execution_count": 0,
      "outputs": [
        {
          "output_type": "error",
          "ename": "ValueError",
          "evalue": "ignored",
          "traceback": [
            "\u001b[0;31m---------------------------------------------------------------------------\u001b[0m",
            "\u001b[0;31mValueError\u001b[0m                                Traceback (most recent call last)",
            "\u001b[0;32m<ipython-input-38-3db53c392707>\u001b[0m in \u001b[0;36m<module>\u001b[0;34m()\u001b[0m\n\u001b[1;32m      7\u001b[0m \u001b[0mmodel\u001b[0m\u001b[0;34m.\u001b[0m\u001b[0madd\u001b[0m\u001b[0;34m(\u001b[0m\u001b[0mDense\u001b[0m\u001b[0;34m(\u001b[0m\u001b[0;36m1\u001b[0m\u001b[0;34m,\u001b[0m \u001b[0mactivation\u001b[0m\u001b[0;34m=\u001b[0m\u001b[0;34m'linear'\u001b[0m\u001b[0;34m)\u001b[0m\u001b[0;34m)\u001b[0m\u001b[0;34m\u001b[0m\u001b[0;34m\u001b[0m\u001b[0m\n\u001b[1;32m      8\u001b[0m \u001b[0;31m# compile the keras model\u001b[0m\u001b[0;34m\u001b[0m\u001b[0;34m\u001b[0m\u001b[0;34m\u001b[0m\u001b[0m\n\u001b[0;32m----> 9\u001b[0;31m \u001b[0mmodel\u001b[0m\u001b[0;34m.\u001b[0m\u001b[0mcompile\u001b[0m\u001b[0;34m(\u001b[0m\u001b[0mloss\u001b[0m\u001b[0;34m=\u001b[0m\u001b[0mcustom_loss\u001b[0m\u001b[0;34m,\u001b[0m \u001b[0moptimizer\u001b[0m\u001b[0;34m=\u001b[0m\u001b[0;34m'adam'\u001b[0m\u001b[0;34m,\u001b[0m \u001b[0mmetrics\u001b[0m\u001b[0;34m=\u001b[0m\u001b[0;34m[\u001b[0m\u001b[0;34m'accuracy'\u001b[0m\u001b[0;34m]\u001b[0m\u001b[0;34m)\u001b[0m\u001b[0;34m\u001b[0m\u001b[0;34m\u001b[0m\u001b[0m\n\u001b[0m\u001b[1;32m     10\u001b[0m \u001b[0;31m# fit the keras model on the dataset\u001b[0m\u001b[0;34m\u001b[0m\u001b[0;34m\u001b[0m\u001b[0;34m\u001b[0m\u001b[0m\n\u001b[1;32m     11\u001b[0m \u001b[0mX\u001b[0m \u001b[0;34m=\u001b[0m \u001b[0mtrain_data\u001b[0m\u001b[0;34m\u001b[0m\u001b[0;34m\u001b[0m\u001b[0m\n",
            "\u001b[0;32m/usr/local/lib/python3.6/dist-packages/keras/engine/training.py\u001b[0m in \u001b[0;36mcompile\u001b[0;34m(self, optimizer, loss, metrics, loss_weights, sample_weight_mode, weighted_metrics, target_tensors, **kwargs)\u001b[0m\n\u001b[1;32m    343\u001b[0m                 \u001b[0;32mwith\u001b[0m \u001b[0mK\u001b[0m\u001b[0;34m.\u001b[0m\u001b[0mname_scope\u001b[0m\u001b[0;34m(\u001b[0m\u001b[0mself\u001b[0m\u001b[0;34m.\u001b[0m\u001b[0moutput_names\u001b[0m\u001b[0;34m[\u001b[0m\u001b[0mi\u001b[0m\u001b[0;34m]\u001b[0m \u001b[0;34m+\u001b[0m \u001b[0;34m'_loss'\u001b[0m\u001b[0;34m)\u001b[0m\u001b[0;34m:\u001b[0m\u001b[0;34m\u001b[0m\u001b[0;34m\u001b[0m\u001b[0m\n\u001b[1;32m    344\u001b[0m                     output_loss = weighted_loss(y_true, y_pred,\n\u001b[0;32m--> 345\u001b[0;31m                                                 sample_weight, mask)\n\u001b[0m\u001b[1;32m    346\u001b[0m                 \u001b[0;32mif\u001b[0m \u001b[0mlen\u001b[0m\u001b[0;34m(\u001b[0m\u001b[0mself\u001b[0m\u001b[0;34m.\u001b[0m\u001b[0moutputs\u001b[0m\u001b[0;34m)\u001b[0m \u001b[0;34m>\u001b[0m \u001b[0;36m1\u001b[0m\u001b[0;34m:\u001b[0m\u001b[0;34m\u001b[0m\u001b[0;34m\u001b[0m\u001b[0m\n\u001b[1;32m    347\u001b[0m                     \u001b[0mself\u001b[0m\u001b[0;34m.\u001b[0m\u001b[0mmetrics_tensors\u001b[0m\u001b[0;34m.\u001b[0m\u001b[0mappend\u001b[0m\u001b[0;34m(\u001b[0m\u001b[0moutput_loss\u001b[0m\u001b[0;34m)\u001b[0m\u001b[0;34m\u001b[0m\u001b[0;34m\u001b[0m\u001b[0m\n",
            "\u001b[0;32m/usr/local/lib/python3.6/dist-packages/keras/engine/training_utils.py\u001b[0m in \u001b[0;36mweighted\u001b[0;34m(y_true, y_pred, weights, mask)\u001b[0m\n\u001b[1;32m    426\u001b[0m         \"\"\"\n\u001b[1;32m    427\u001b[0m         \u001b[0;31m# score_array has ndim >= 2\u001b[0m\u001b[0;34m\u001b[0m\u001b[0;34m\u001b[0m\u001b[0;34m\u001b[0m\u001b[0m\n\u001b[0;32m--> 428\u001b[0;31m         \u001b[0mscore_array\u001b[0m \u001b[0;34m=\u001b[0m \u001b[0mfn\u001b[0m\u001b[0;34m(\u001b[0m\u001b[0my_true\u001b[0m\u001b[0;34m,\u001b[0m \u001b[0my_pred\u001b[0m\u001b[0;34m)\u001b[0m\u001b[0;34m\u001b[0m\u001b[0;34m\u001b[0m\u001b[0m\n\u001b[0m\u001b[1;32m    429\u001b[0m         \u001b[0;32mif\u001b[0m \u001b[0mmask\u001b[0m \u001b[0;32mis\u001b[0m \u001b[0;32mnot\u001b[0m \u001b[0;32mNone\u001b[0m\u001b[0;34m:\u001b[0m\u001b[0;34m\u001b[0m\u001b[0;34m\u001b[0m\u001b[0m\n\u001b[1;32m    430\u001b[0m             \u001b[0;31m# Cast the mask to floatX to avoid float64 upcasting in Theano\u001b[0m\u001b[0;34m\u001b[0m\u001b[0;34m\u001b[0m\u001b[0;34m\u001b[0m\u001b[0m\n",
            "\u001b[0;32m<ipython-input-37-dd3055d353bb>\u001b[0m in \u001b[0;36mcustom_loss\u001b[0;34m(actual, pred)\u001b[0m\n\u001b[1;32m      3\u001b[0m     \u001b[0mgrads\u001b[0m \u001b[0;34m=\u001b[0m \u001b[0mK\u001b[0m\u001b[0;34m.\u001b[0m\u001b[0mgradients\u001b[0m\u001b[0;34m(\u001b[0m\u001b[0mmodel\u001b[0m\u001b[0;34m.\u001b[0m\u001b[0moutput\u001b[0m\u001b[0;34m,\u001b[0m \u001b[0mmodel\u001b[0m\u001b[0;34m.\u001b[0m\u001b[0minput\u001b[0m\u001b[0;34m)\u001b[0m\u001b[0;34m[\u001b[0m\u001b[0;36m0\u001b[0m\u001b[0;34m]\u001b[0m\u001b[0;34m\u001b[0m\u001b[0;34m\u001b[0m\u001b[0m\n\u001b[1;32m      4\u001b[0m     \u001b[0;31m# loss = (grads - model.input**2 + 3) **2\u001b[0m\u001b[0;34m\u001b[0m\u001b[0;34m\u001b[0m\u001b[0;34m\u001b[0m\u001b[0m\n\u001b[0;32m----> 5\u001b[0;31m     \u001b[0minp\u001b[0m \u001b[0;34m=\u001b[0m \u001b[0mK\u001b[0m\u001b[0;34m.\u001b[0m\u001b[0mvariable\u001b[0m\u001b[0;34m(\u001b[0m\u001b[0mmodel\u001b[0m\u001b[0;34m.\u001b[0m\u001b[0minput\u001b[0m\u001b[0;34m)\u001b[0m\u001b[0;34m\u001b[0m\u001b[0;34m\u001b[0m\u001b[0m\n\u001b[0m\u001b[1;32m      6\u001b[0m     \u001b[0mprint\u001b[0m\u001b[0;34m(\u001b[0m\u001b[0mgrads\u001b[0m \u001b[0;34m-\u001b[0m \u001b[0minp\u001b[0m\u001b[0;34m**\u001b[0m\u001b[0;36m2\u001b[0m \u001b[0;34m+\u001b[0m \u001b[0;36m3\u001b[0m \u001b[0;34m)\u001b[0m\u001b[0;34m\u001b[0m\u001b[0;34m\u001b[0m\u001b[0m\n\u001b[1;32m      7\u001b[0m     \u001b[0;32mreturn\u001b[0m \u001b[0mloss\u001b[0m\u001b[0;34m\u001b[0m\u001b[0;34m\u001b[0m\u001b[0m\n",
            "\u001b[0;32m/usr/local/lib/python3.6/dist-packages/keras/backend/tensorflow_backend.py\u001b[0m in \u001b[0;36mvariable\u001b[0;34m(value, dtype, name, constraint)\u001b[0m\n\u001b[1;32m    420\u001b[0m         \u001b[0mv\u001b[0m\u001b[0;34m.\u001b[0m\u001b[0m_uses_learning_phase\u001b[0m \u001b[0;34m=\u001b[0m \u001b[0;32mFalse\u001b[0m\u001b[0;34m\u001b[0m\u001b[0;34m\u001b[0m\u001b[0m\n\u001b[1;32m    421\u001b[0m         \u001b[0;32mreturn\u001b[0m \u001b[0mv\u001b[0m\u001b[0;34m\u001b[0m\u001b[0;34m\u001b[0m\u001b[0m\n\u001b[0;32m--> 422\u001b[0;31m     \u001b[0mv\u001b[0m \u001b[0;34m=\u001b[0m \u001b[0mtf\u001b[0m\u001b[0;34m.\u001b[0m\u001b[0mVariable\u001b[0m\u001b[0;34m(\u001b[0m\u001b[0mvalue\u001b[0m\u001b[0;34m,\u001b[0m \u001b[0mdtype\u001b[0m\u001b[0;34m=\u001b[0m\u001b[0mtf\u001b[0m\u001b[0;34m.\u001b[0m\u001b[0mas_dtype\u001b[0m\u001b[0;34m(\u001b[0m\u001b[0mdtype\u001b[0m\u001b[0;34m)\u001b[0m\u001b[0;34m,\u001b[0m \u001b[0mname\u001b[0m\u001b[0;34m=\u001b[0m\u001b[0mname\u001b[0m\u001b[0;34m)\u001b[0m\u001b[0;34m\u001b[0m\u001b[0;34m\u001b[0m\u001b[0m\n\u001b[0m\u001b[1;32m    423\u001b[0m     \u001b[0;32mif\u001b[0m \u001b[0misinstance\u001b[0m\u001b[0;34m(\u001b[0m\u001b[0mvalue\u001b[0m\u001b[0;34m,\u001b[0m \u001b[0mnp\u001b[0m\u001b[0;34m.\u001b[0m\u001b[0mndarray\u001b[0m\u001b[0;34m)\u001b[0m\u001b[0;34m:\u001b[0m\u001b[0;34m\u001b[0m\u001b[0;34m\u001b[0m\u001b[0m\n\u001b[1;32m    424\u001b[0m         \u001b[0mv\u001b[0m\u001b[0;34m.\u001b[0m\u001b[0m_keras_shape\u001b[0m \u001b[0;34m=\u001b[0m \u001b[0mvalue\u001b[0m\u001b[0;34m.\u001b[0m\u001b[0mshape\u001b[0m\u001b[0;34m\u001b[0m\u001b[0;34m\u001b[0m\u001b[0m\n",
            "\u001b[0;32m/usr/local/lib/python3.6/dist-packages/tensorflow_core/python/ops/variables.py\u001b[0m in \u001b[0;36m__call__\u001b[0;34m(cls, *args, **kwargs)\u001b[0m\n\u001b[1;32m    256\u001b[0m   \u001b[0;32mdef\u001b[0m \u001b[0m__call__\u001b[0m\u001b[0;34m(\u001b[0m\u001b[0mcls\u001b[0m\u001b[0;34m,\u001b[0m \u001b[0;34m*\u001b[0m\u001b[0margs\u001b[0m\u001b[0;34m,\u001b[0m \u001b[0;34m**\u001b[0m\u001b[0mkwargs\u001b[0m\u001b[0;34m)\u001b[0m\u001b[0;34m:\u001b[0m\u001b[0;34m\u001b[0m\u001b[0;34m\u001b[0m\u001b[0m\n\u001b[1;32m    257\u001b[0m     \u001b[0;32mif\u001b[0m \u001b[0mcls\u001b[0m \u001b[0;32mis\u001b[0m \u001b[0mVariableV1\u001b[0m\u001b[0;34m:\u001b[0m\u001b[0;34m\u001b[0m\u001b[0;34m\u001b[0m\u001b[0m\n\u001b[0;32m--> 258\u001b[0;31m       \u001b[0;32mreturn\u001b[0m \u001b[0mcls\u001b[0m\u001b[0;34m.\u001b[0m\u001b[0m_variable_v1_call\u001b[0m\u001b[0;34m(\u001b[0m\u001b[0;34m*\u001b[0m\u001b[0margs\u001b[0m\u001b[0;34m,\u001b[0m \u001b[0;34m**\u001b[0m\u001b[0mkwargs\u001b[0m\u001b[0;34m)\u001b[0m\u001b[0;34m\u001b[0m\u001b[0;34m\u001b[0m\u001b[0m\n\u001b[0m\u001b[1;32m    259\u001b[0m     \u001b[0;32melif\u001b[0m \u001b[0mcls\u001b[0m \u001b[0;32mis\u001b[0m \u001b[0mVariable\u001b[0m\u001b[0;34m:\u001b[0m\u001b[0;34m\u001b[0m\u001b[0;34m\u001b[0m\u001b[0m\n\u001b[1;32m    260\u001b[0m       \u001b[0;32mreturn\u001b[0m \u001b[0mcls\u001b[0m\u001b[0;34m.\u001b[0m\u001b[0m_variable_v2_call\u001b[0m\u001b[0;34m(\u001b[0m\u001b[0;34m*\u001b[0m\u001b[0margs\u001b[0m\u001b[0;34m,\u001b[0m \u001b[0;34m**\u001b[0m\u001b[0mkwargs\u001b[0m\u001b[0;34m)\u001b[0m\u001b[0;34m\u001b[0m\u001b[0;34m\u001b[0m\u001b[0m\n",
            "\u001b[0;32m/usr/local/lib/python3.6/dist-packages/tensorflow_core/python/ops/variables.py\u001b[0m in \u001b[0;36m_variable_v1_call\u001b[0;34m(cls, initial_value, trainable, collections, validate_shape, caching_device, name, variable_def, dtype, expected_shape, import_scope, constraint, use_resource, synchronization, aggregation, shape)\u001b[0m\n\u001b[1;32m    217\u001b[0m         \u001b[0msynchronization\u001b[0m\u001b[0;34m=\u001b[0m\u001b[0msynchronization\u001b[0m\u001b[0;34m,\u001b[0m\u001b[0;34m\u001b[0m\u001b[0;34m\u001b[0m\u001b[0m\n\u001b[1;32m    218\u001b[0m         \u001b[0maggregation\u001b[0m\u001b[0;34m=\u001b[0m\u001b[0maggregation\u001b[0m\u001b[0;34m,\u001b[0m\u001b[0;34m\u001b[0m\u001b[0;34m\u001b[0m\u001b[0m\n\u001b[0;32m--> 219\u001b[0;31m         shape=shape)\n\u001b[0m\u001b[1;32m    220\u001b[0m \u001b[0;34m\u001b[0m\u001b[0m\n\u001b[1;32m    221\u001b[0m   def _variable_v2_call(cls,\n",
            "\u001b[0;32m/usr/local/lib/python3.6/dist-packages/tensorflow_core/python/ops/variables.py\u001b[0m in \u001b[0;36m<lambda>\u001b[0;34m(**kwargs)\u001b[0m\n\u001b[1;32m    195\u001b[0m                         shape=None):\n\u001b[1;32m    196\u001b[0m     \u001b[0;34m\"\"\"Call on Variable class. Useful to force the signature.\"\"\"\u001b[0m\u001b[0;34m\u001b[0m\u001b[0;34m\u001b[0m\u001b[0m\n\u001b[0;32m--> 197\u001b[0;31m     \u001b[0mprevious_getter\u001b[0m \u001b[0;34m=\u001b[0m \u001b[0;32mlambda\u001b[0m \u001b[0;34m**\u001b[0m\u001b[0mkwargs\u001b[0m\u001b[0;34m:\u001b[0m \u001b[0mdefault_variable_creator\u001b[0m\u001b[0;34m(\u001b[0m\u001b[0;32mNone\u001b[0m\u001b[0;34m,\u001b[0m \u001b[0;34m**\u001b[0m\u001b[0mkwargs\u001b[0m\u001b[0;34m)\u001b[0m\u001b[0;34m\u001b[0m\u001b[0;34m\u001b[0m\u001b[0m\n\u001b[0m\u001b[1;32m    198\u001b[0m     \u001b[0;32mfor\u001b[0m \u001b[0m_\u001b[0m\u001b[0;34m,\u001b[0m \u001b[0mgetter\u001b[0m \u001b[0;32min\u001b[0m \u001b[0mops\u001b[0m\u001b[0;34m.\u001b[0m\u001b[0mget_default_graph\u001b[0m\u001b[0;34m(\u001b[0m\u001b[0;34m)\u001b[0m\u001b[0;34m.\u001b[0m\u001b[0m_variable_creator_stack\u001b[0m\u001b[0;34m:\u001b[0m  \u001b[0;31m# pylint: disable=protected-access\u001b[0m\u001b[0;34m\u001b[0m\u001b[0;34m\u001b[0m\u001b[0m\n\u001b[1;32m    199\u001b[0m       \u001b[0mprevious_getter\u001b[0m \u001b[0;34m=\u001b[0m \u001b[0m_make_getter\u001b[0m\u001b[0;34m(\u001b[0m\u001b[0mgetter\u001b[0m\u001b[0;34m,\u001b[0m \u001b[0mprevious_getter\u001b[0m\u001b[0;34m)\u001b[0m\u001b[0;34m\u001b[0m\u001b[0;34m\u001b[0m\u001b[0m\n",
            "\u001b[0;32m/usr/local/lib/python3.6/dist-packages/tensorflow_core/python/ops/variable_scope.py\u001b[0m in \u001b[0;36mdefault_variable_creator\u001b[0;34m(next_creator, **kwargs)\u001b[0m\n\u001b[1;32m   2517\u001b[0m         \u001b[0msynchronization\u001b[0m\u001b[0;34m=\u001b[0m\u001b[0msynchronization\u001b[0m\u001b[0;34m,\u001b[0m\u001b[0;34m\u001b[0m\u001b[0;34m\u001b[0m\u001b[0m\n\u001b[1;32m   2518\u001b[0m         \u001b[0maggregation\u001b[0m\u001b[0;34m=\u001b[0m\u001b[0maggregation\u001b[0m\u001b[0;34m,\u001b[0m\u001b[0;34m\u001b[0m\u001b[0;34m\u001b[0m\u001b[0m\n\u001b[0;32m-> 2519\u001b[0;31m         shape=shape)\n\u001b[0m\u001b[1;32m   2520\u001b[0m \u001b[0;34m\u001b[0m\u001b[0m\n\u001b[1;32m   2521\u001b[0m \u001b[0;34m\u001b[0m\u001b[0m\n",
            "\u001b[0;32m/usr/local/lib/python3.6/dist-packages/tensorflow_core/python/ops/variables.py\u001b[0m in \u001b[0;36m__call__\u001b[0;34m(cls, *args, **kwargs)\u001b[0m\n\u001b[1;32m    260\u001b[0m       \u001b[0;32mreturn\u001b[0m \u001b[0mcls\u001b[0m\u001b[0;34m.\u001b[0m\u001b[0m_variable_v2_call\u001b[0m\u001b[0;34m(\u001b[0m\u001b[0;34m*\u001b[0m\u001b[0margs\u001b[0m\u001b[0;34m,\u001b[0m \u001b[0;34m**\u001b[0m\u001b[0mkwargs\u001b[0m\u001b[0;34m)\u001b[0m\u001b[0;34m\u001b[0m\u001b[0;34m\u001b[0m\u001b[0m\n\u001b[1;32m    261\u001b[0m     \u001b[0;32melse\u001b[0m\u001b[0;34m:\u001b[0m\u001b[0;34m\u001b[0m\u001b[0;34m\u001b[0m\u001b[0m\n\u001b[0;32m--> 262\u001b[0;31m       \u001b[0;32mreturn\u001b[0m \u001b[0msuper\u001b[0m\u001b[0;34m(\u001b[0m\u001b[0mVariableMetaclass\u001b[0m\u001b[0;34m,\u001b[0m \u001b[0mcls\u001b[0m\u001b[0;34m)\u001b[0m\u001b[0;34m.\u001b[0m\u001b[0m__call__\u001b[0m\u001b[0;34m(\u001b[0m\u001b[0;34m*\u001b[0m\u001b[0margs\u001b[0m\u001b[0;34m,\u001b[0m \u001b[0;34m**\u001b[0m\u001b[0mkwargs\u001b[0m\u001b[0;34m)\u001b[0m\u001b[0;34m\u001b[0m\u001b[0;34m\u001b[0m\u001b[0m\n\u001b[0m\u001b[1;32m    263\u001b[0m \u001b[0;34m\u001b[0m\u001b[0m\n\u001b[1;32m    264\u001b[0m \u001b[0;34m\u001b[0m\u001b[0m\n",
            "\u001b[0;32m/usr/local/lib/python3.6/dist-packages/tensorflow_core/python/ops/variables.py\u001b[0m in \u001b[0;36m__init__\u001b[0;34m(self, initial_value, trainable, collections, validate_shape, caching_device, name, variable_def, dtype, expected_shape, import_scope, constraint, synchronization, aggregation, shape)\u001b[0m\n\u001b[1;32m   1686\u001b[0m           \u001b[0msynchronization\u001b[0m\u001b[0;34m=\u001b[0m\u001b[0msynchronization\u001b[0m\u001b[0;34m,\u001b[0m\u001b[0;34m\u001b[0m\u001b[0;34m\u001b[0m\u001b[0m\n\u001b[1;32m   1687\u001b[0m           \u001b[0maggregation\u001b[0m\u001b[0;34m=\u001b[0m\u001b[0maggregation\u001b[0m\u001b[0;34m,\u001b[0m\u001b[0;34m\u001b[0m\u001b[0;34m\u001b[0m\u001b[0m\n\u001b[0;32m-> 1688\u001b[0;31m           shape=shape)\n\u001b[0m\u001b[1;32m   1689\u001b[0m \u001b[0;34m\u001b[0m\u001b[0m\n\u001b[1;32m   1690\u001b[0m   \u001b[0;32mdef\u001b[0m \u001b[0m__repr__\u001b[0m\u001b[0;34m(\u001b[0m\u001b[0mself\u001b[0m\u001b[0;34m)\u001b[0m\u001b[0;34m:\u001b[0m\u001b[0;34m\u001b[0m\u001b[0;34m\u001b[0m\u001b[0m\n",
            "\u001b[0;32m/usr/local/lib/python3.6/dist-packages/tensorflow_core/python/ops/variables.py\u001b[0m in \u001b[0;36m_init_from_args\u001b[0;34m(self, initial_value, trainable, collections, validate_shape, caching_device, name, dtype, expected_shape, constraint, synchronization, aggregation, shape)\u001b[0m\n\u001b[1;32m   1851\u001b[0m           \u001b[0;32mif\u001b[0m \u001b[0;32mnot\u001b[0m \u001b[0minitial_value_shape\u001b[0m\u001b[0;34m.\u001b[0m\u001b[0mis_fully_defined\u001b[0m\u001b[0;34m(\u001b[0m\u001b[0;34m)\u001b[0m\u001b[0;34m:\u001b[0m\u001b[0;34m\u001b[0m\u001b[0;34m\u001b[0m\u001b[0m\n\u001b[1;32m   1852\u001b[0m             raise ValueError(\"initial_value must have a shape specified: %s\" %\n\u001b[0;32m-> 1853\u001b[0;31m                              self._initial_value)\n\u001b[0m\u001b[1;32m   1854\u001b[0m \u001b[0;34m\u001b[0m\u001b[0m\n\u001b[1;32m   1855\u001b[0m         \u001b[0;31m# If 'initial_value' makes use of other variables, make sure we don't\u001b[0m\u001b[0;34m\u001b[0m\u001b[0;34m\u001b[0m\u001b[0;34m\u001b[0m\u001b[0m\n",
            "\u001b[0;31mValueError\u001b[0m: initial_value must have a shape specified: Tensor(\"dense_46_input:0\", shape=(?, 1), dtype=float32)"
          ]
        }
      ]
    },
    {
      "cell_type": "code",
      "metadata": {
        "id": "YhiA6PF42gSv",
        "colab_type": "code",
        "colab": {}
      },
      "source": [
        ""
      ],
      "execution_count": 0,
      "outputs": []
    }
  ]
}